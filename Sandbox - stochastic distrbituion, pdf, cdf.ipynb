{
 "cells": [
  {
   "cell_type": "markdown",
   "metadata": {
    "id": "to_dos_cell",
    "tasks": []
   },
   "source": [
    "# To Dos\n",
    "<br><div class=\"input-group\"><input type=\"text\" class=\"to-dos-new-task form-control\"></input><span class=\"input-group-btn\"><button class=\"to-dos-add-task btn btn-primary\">Add Task</button></span></div><div class=\"existing-to-dos\"></div>"
   ]
  },
  {
   "cell_type": "markdown",
   "metadata": {},
   "source": [
    "# Numpy distributions function"
   ]
  },
  {
   "cell_type": "code",
   "execution_count": 10,
   "metadata": {},
   "outputs": [
    {
     "data": {
      "image/png": "[encoded data removed]",
      "text/plain": [
       "<Figure size 432x288 with 1 Axes>"
      ]
     },
     "metadata": {},
     "output_type": "display_data"
    }
   ],
   "source": [
    "import numpy as np\n",
    "import pandas as pd\n",
    "\n",
    "%matplotlib inline\n",
    "\n",
    "def GenerateDistribution(function, params, size, plot=None):\n",
    "    ''' function = normal, lognormal, beta, uniform or triangular\n",
    "        params = [mu, sigma], [a,b], [low, high], [low,mid,high]\n",
    "    '''\n",
    "    # ------------- options based on params length\n",
    "    if len(params) < 2 :\n",
    "            print('function takes at least 2 arguments')\n",
    "            return\n",
    "    elif len(params) == 2:\n",
    "        # all functions with 2 parameters\n",
    "        \n",
    "        if function == 'normal':                                      # https://docs.scipy.org/doc/numpy/reference/generated/numpy.random.normal.html\n",
    "            # s = np.random.normal(mean, sigma,size)\n",
    "            s =  np.random.normal(params[0], params[1], size)\n",
    "        if function == 'lognormal':                                   # https://docs.scipy.org/doc/numpy/reference/generated/numpy.random.lognormal.html\n",
    "            #s = np.random.lognormal(mean, sigma, size)  \n",
    "            s =  np.random.lognormal(params[0], params[1], size)        \n",
    "        elif function == 'beta':                                      # https://docs.scipy.org/doc/numpy/reference/generated/numpy.random.beta.html\n",
    "            #s = np.random.beta(a,b size)\n",
    "            s = np.random.beta(params[0], params[1], size)\n",
    "        elif function == 'uniform':                                   # https://docs.scipy.org/doc/numpy/reference/generated/numpy.random.uniform.html\n",
    "            #s = np.random.uniform(low, high, size)\n",
    "            s = np.random.uniform(params[0], params[1], size)\n",
    "    \n",
    "    elif len(params) == 3:\n",
    "        if function == 'triangular':                                  # https://docs.scipy.org/doc/numpy/reference/generated/numpy.random.triangular.html\n",
    "            #s = np.random.triangular(left, mode, right, size)\n",
    "            s = np.random.triangular(params[0], params[1], params[2], size)\n",
    "        else:\n",
    "            print('you supplied more than 3 params')\n",
    "            return\n",
    "    \n",
    "    # -------------- Plot\n",
    "    if plot !=None :\n",
    "        #\n",
    "        dist = pd.DataFrame({function:s})\n",
    "        dist.hist(bins=100, density=True , stacked = True,cumulative=False)\n",
    "        \n",
    "        # pdf_normal     = 1/(sigma * np.sqrt(2 * np.pi)) *np.exp( - (bins - mu)**2 / (2 * sigma**2) )\n",
    "        # pdf_log_normal = (np.exp(-(np.log(x) - mu)**2 / (2 * sigma**2))/ (x * sigma * np.sqrt(2 * np.pi)))\n",
    "        # pdf_uniform    = np.ones_like(bins)  # where count, bins, ignored = plt.hist(np.random.uniform(low,high,size), 15, normed=True)\n",
    "    \n",
    "    return s\n",
    "\n",
    "# -----------------------------\n",
    "distribution_data = GenerateDistribution('lognormal', [7.87,.74], 10000, 1)"
   ]
  },
  {
   "cell_type": "code",
   "execution_count": 11,
   "metadata": {},
   "outputs": [
    {
     "data": {
      "text/plain": [
       "3476.8353060172244"
      ]
     },
     "execution_count": 11,
     "metadata": {},
     "output_type": "execute_result"
    }
   ],
   "source": [
    "distribution_data.max()\n",
    "distribution_data.min()\n",
    "distribution_data.mean()\n"
   ]
  },
  {
   "cell_type": "markdown",
   "metadata": {},
   "source": [
    "# Distribution with min, max, mean and std"
   ]
  },
  {
   "cell_type": "markdown",
   "metadata": {},
   "source": [
    " https://stackoverflow.com/questions/50626710/generating-random-numbers-with-predefined-mean-std-min-and-max"
   ]
  },
  {
   "cell_type": "code",
   "execution_count": 16,
   "metadata": {},
   "outputs": [
    {
     "name": "stdout",
     "output_type": "stream",
     "text": [
      "alpha: 12.16   beta: 4.34  scale: 19.00  location : 1.00\n",
      "mean: 15.0 std: 2.0\n",
      "min: 5.44860207745 max: 19.8506217498\n"
     ]
    },
    {
     "data": {
      "image/png": "[encoded data removed]",
      "text/plain": [
       "<Figure size 432x288 with 2 Axes>"
      ]
     },
     "metadata": {},
     "output_type": "display_data"
    }
   ],
   "source": [
    "import numpy as np\n",
    "import scipy.stats\n",
    "import matplotlib.pyplot as plt\n",
    "\n",
    "%matplotlib inline\n",
    "\n",
    "def my_distribution(min_val, max_val, mean, std):\n",
    "    scale = max_val - min_val\n",
    "    location = min_val\n",
    "    # Mean and standard deviation of the unscaled beta distribution\n",
    "    unscaled_mean = (mean - min_val) / scale\n",
    "    unscaled_var = (std / scale) ** 2\n",
    "    # Computation of alpha and beta can be derived from mean and variance formulas\n",
    "    t = unscaled_mean / (1 - unscaled_mean)\n",
    "    beta = ((t / unscaled_var) - (t * t) - (2 * t) - 1) / ((t * t * t) + (3 * t * t) + (3 * t) + 1)\n",
    "    alpha = beta * t\n",
    "    # Not all parameters may produce a valid distribution\n",
    "    if alpha <= 0 or beta <= 0:\n",
    "        raise ValueError('Cannot create distribution for the given parameters.')\n",
    "    # Make scaled beta distribution with computed parameters\n",
    "    \n",
    "    print('alpha: {:.2f}   beta: {:.2f}  scale: {:.2f}  location : {:.2f}'.format(alpha, beta, scale, location))\n",
    "    \n",
    "    return scipy.stats.beta(alpha, beta, scale=scale, loc=location)\n",
    "\n",
    "np.random.seed(100)\n",
    "\n",
    "min_val = 1\n",
    "max_val = 20\n",
    "mean = 15\n",
    "std = 2\n",
    "my_dist = my_distribution(min_val, max_val, mean, std)\n",
    "# Plot distribution PDF\n",
    "x = np.linspace(min_val, max_val, 100)\n",
    "\n",
    "x_reverse =  np.arange(max_val, min_val, -100)\n",
    "\n",
    "\n",
    "fig, ax = plt.subplots()\n",
    "\n",
    "ax.plot(x, my_dist.pdf(x))\n",
    "ax1 = ax.twinx()\n",
    "\n",
    "ax1.plot(np.flip(x,0), my_dist.cdf(x), color='r')\n",
    "ax1.plot([min_val, max_val],[.1,.1], color='grey', linestyle='--', linewidth = 1, alpha=.5)\n",
    "ax1.plot([min_val, max_val],[.5,.5], color='grey', linestyle='--', linewidth = 1, alpha=.5)\n",
    "ax1.plot([min_val, max_val],[.9,.9], color='grey', linestyle='--', linewidth = 1, alpha=.5)\n",
    "# Stats\n",
    "print('mean:', my_dist.mean(), 'std:', my_dist.std())\n",
    "# Get a large sample to check bounds\n",
    "sample = my_dist.rvs(size=100000)\n",
    "print('min:', sample.min(), 'max:', sample.max())"
   ]
  },
  {
   "cell_type": "code",
   "execution_count": 11,
   "metadata": {},
   "outputs": [
    {
     "data": {
      "text/plain": [
       "array([  1.        ,   1.19191919,   1.38383838,   1.57575758,\n",
       "         1.76767677,   1.95959596,   2.15151515,   2.34343434,\n",
       "         2.53535354,   2.72727273,   2.91919192,   3.11111111,\n",
       "         3.3030303 ,   3.49494949,   3.68686869,   3.87878788,\n",
       "         4.07070707,   4.26262626,   4.45454545,   4.64646465,\n",
       "         4.83838384,   5.03030303,   5.22222222,   5.41414141,\n",
       "         5.60606061,   5.7979798 ,   5.98989899,   6.18181818,\n",
       "         6.37373737,   6.56565657,   6.75757576,   6.94949495,\n",
       "         7.14141414,   7.33333333,   7.52525253,   7.71717172,\n",
       "         7.90909091,   8.1010101 ,   8.29292929,   8.48484848,\n",
       "         8.67676768,   8.86868687,   9.06060606,   9.25252525,\n",
       "         9.44444444,   9.63636364,   9.82828283,  10.02020202,\n",
       "        10.21212121,  10.4040404 ,  10.5959596 ,  10.78787879,\n",
       "        10.97979798,  11.17171717,  11.36363636,  11.55555556,\n",
       "        11.74747475,  11.93939394,  12.13131313,  12.32323232,\n",
       "        12.51515152,  12.70707071,  12.8989899 ,  13.09090909,\n",
       "        13.28282828,  13.47474747,  13.66666667,  13.85858586,\n",
       "        14.05050505,  14.24242424,  14.43434343,  14.62626263,\n",
       "        14.81818182,  15.01010101,  15.2020202 ,  15.39393939,\n",
       "        15.58585859,  15.77777778,  15.96969697,  16.16161616,\n",
       "        16.35353535,  16.54545455,  16.73737374,  16.92929293,\n",
       "        17.12121212,  17.31313131,  17.50505051,  17.6969697 ,\n",
       "        17.88888889,  18.08080808,  18.27272727,  18.46464646,\n",
       "        18.65656566,  18.84848485,  19.04040404,  19.23232323,\n",
       "        19.42424242,  19.61616162,  19.80808081,  20.        ])"
      ]
     },
     "execution_count": 11,
     "metadata": {},
     "output_type": "execute_result"
    }
   ],
   "source": [
    "x"
   ]
  },
  {
   "cell_type": "code",
   "execution_count": null,
   "metadata": {},
   "outputs": [],
   "source": [
    "scipy.stats.absolute_import()"
   ]
  },
  {
   "cell_type": "markdown",
   "metadata": {},
   "source": [
    "# Distribution with P10, P50 P90 as input"
   ]
  },
  {
   "cell_type": "code",
   "execution_count": 55,
   "metadata": {},
   "outputs": [
    {
     "name": "stdout",
     "output_type": "stream",
     "text": [
      "19.969654571599236 - 39.8384708763613 - 79.46954933945742\n"
     ]
    }
   ],
   "source": [
    "def metalog_multi(p10, p50, p90, numberofsamples, p0 = None, p100 = None):\n",
    "    p10 = float(p10)\n",
    "    p50 = float(p50)\n",
    "    p90 = float(p90)\n",
    "    if p0 != None:\n",
    "        p0 = float(p0)\n",
    "    if p100 != None:\n",
    "        p100 = float(p100)\n",
    "\n",
    "\n",
    "    samples = []\n",
    "    for i in range(numberofsamples):\n",
    "        x = random.random()\n",
    "        if p0 == None and p100 == None:\n",
    "            # unbound\n",
    "\n",
    "            sample = p50 + 0.5 * (np.log((1 - 0.1) / 0.1)) ** (-1) * (p90 - p10) * np.log(x / (1 - x)) + ((1 - 2 * 0.1) * (np.log((1 - 0.1) / 0.1))) ** -1 * (1 - 2 * (p50 - p10) / (p90 - p10)) * (p90 - p10) * (x - 0.5) * np.log(x / (1 - x))\n",
    "\n",
    "        elif p100 == None:\n",
    "            # lower bound\n",
    "            #sample = p0 + e ** (np.log(p50 - p0) + 0.5 * (np.log((1 - 0.1) / 0.1)) ** -1 * np.log((p90 - p0) / (p10 - p0)) * np.log(x / (1 - x)) + ((1 - 2 * 0.1) * (np.log((1 - 0.1) / 0.1))) ** -1 * np.log(((p90 - p0) * (p10 - p0)) / (p50 - p0) ** 2) * (x - 0.5) * np.log(x / (1 - x)))\n",
    "            \n",
    "            sample = p0 + np.exp(np.log(p50 - p0) + 0.5 * (np.log((1 - 0.1) / 0.1)) ** -1 * np.log((p90 - p0) / (p10 - p0)) * np.log(x / (1 - x)) + ((1 - 2 * 0.1) * (np.log((1 - 0.1) / 0.1))) ** -1 * np.log(((p90 - p0) * (p10 - p0)) / (p50 - p0) ** 2) * (x - 0.5) * np.log(x / (1 - x)))\n",
    "            \n",
    "        elif p0 == None:\n",
    "            # upper bound\n",
    "            \n",
    "            #sample = p100 - e ** (-(-np.log(p100 - p50) - (0.5) * (np.log((1 - 0.1) / 0.1)) ** -1 * np.log((p100 - p90) / (p100 - p10)) * np.log(x / (1 - x)) - ((1 - 2 * 0.1) * (np.log((1 - 0.1) / 0.1))) ** -1 * np.log(((p100 - p90) * (p100 - p10)) / (p100 - p50) ** 2) * (x - 0.5) * np.log(x / (1 - x))))\n",
    "            \n",
    "            sample = p100 - np.exp(-(-np.log(p100 - p50) - (0.5) * (np.log((1 - 0.1) / 0.1)) ** -1 * np.log((p100 - p90) / (p100 - p10)) * np.log(x / (1 - x)) - ((1 - 2 * 0.1) * (np.log((1 - 0.1) / 0.1))) ** -1 * np.log(((p100 - p90) * (p100 - p10)) / (p100 - p50) ** 2) * (x - 0.5) * np.log(x / (1 - x))))\n",
    "            \n",
    "        else:\n",
    "            # bound\n",
    "            #sample = (p0 + p100 * e ** (np.log((p50 - p0) / (p100 - p50)) + (0.5) * (np.log((1 - 0.1) / 0.1)) ** -1 * np.log(((p90 - p0) / (p100 - p90)) / ((p10 - p0) / (p100 - p10))) * np.log(x / (1 - x)) + ((1 - 2 * 0.1) * (np.log((1 - 0.1) / 0.1))) ** -1 * np.log((((p90 - p0) / (p100 - p90)) * ((p10 - p0) / (p100 - p10))) / ((p50 - p0) / (p100 - p50)) ** 2) * (x - 0.5) * np.log(x / (1 - x)))) / (1 + e ** (np.log((p50 - p0) / (p100 - p50)) + (0.5) * (np.log((1 - 0.1) / 0.1)) ** -1 * np.log(((p90 - p0) / (p100 - p90)) / ((p10 - p0) / (p100 - p10))) * np.log(x / (1 - x)) + ((1 - 2 * 0.1) *(np.log((1 - 0.1) / 0.1))) ** -1 * np.log((((p90 - p0) / (p100 - p90)) * ((p10 - p0) / (p100 - p10))) / ((p50 - p0) / (p100 - p50)) ** 2) * (x - 0.5) * np.log(x / (1 - x))))\n",
    "            \n",
    "            sample = (p0 + p100 * np.exp(np.log((p50 - p0) / (p100 - p50)) + (0.5) * (np.log((1 - 0.1) / 0.1)) ** -1 * np.log(((p90 - p0) / (p100 - p90)) / ((p10 - p0) / (p100 - p10))) * np.log(x / (1 - x)) + ((1 - 2 * 0.1) * (np.log((1 - 0.1) / 0.1))) ** -1 * np.log((((p90 - p0) / (p100 - p90)) * ((p10 - p0) / (p100 - p10))) / ((p50 - p0) / (p100 - p50)) ** 2) * (x - 0.5) * np.log(x / (1 - x)))) / (1 + np.exp(np.log((p50 - p0) / (p100 - p50)) + (0.5) * (np.log((1 - 0.1) / 0.1)) ** -1 * np.log(((p90 - p0) / (p100 - p90)) / ((p10 - p0) / (p100 - p10))) * np.log(x / (1 - x)) + ((1 - 2 * 0.1) *(np.log((1 - 0.1) / 0.1))) ** -1 * np.log((((p90 - p0) / (p100 - p90)) * ((p10 - p0) / (p100 - p10))) / ((p50 - p0) / (p100 - p50)) ** 2) * (x - 0.5) * np.log(x / (1 - x))))\n",
    "            \n",
    "        samples.append(sample)\n",
    "    return samples\n",
    "\n",
    "\n",
    "p0_in = 10\n",
    "p10_in = 20\n",
    "p50_in = 40\n",
    "p90_in = 80\n",
    "p100_in = 250\n",
    "numberofsamples = 10000\n",
    "data = metalog_multi(p10_in, p50_in, p90_in, numberofsamples, p0 = p0_in)\n",
    "\n",
    "p10_out = np.percentile(data,10)\n",
    "p50_out = np.percentile(data,50)\n",
    "p90_out = np.percentile(data,90)\n",
    "\n",
    "print('{} - {} - {}'.format(p10_out, p50_out, p90_out))"
   ]
  },
  {
   "cell_type": "markdown",
   "metadata": {},
   "source": [
    "trying to convert the data list ot a scipy distribution "
   ]
  },
  {
   "cell_type": "raw",
   "metadata": {},
   "source": [
    "scipy.stats.rv_discrete.rvs"
   ]
  },
  {
   "cell_type": "code",
   "execution_count": 32,
   "metadata": {},
   "outputs": [
    {
     "name": "stdout",
     "output_type": "stream",
     "text": [
      "<class 'list'>\n",
      "<class 'numpy.ndarray'>\n"
     ]
    },
    {
     "ename": "AttributeError",
     "evalue": "'numpy.ndarray' object has no attribute 'pdf'",
     "output_type": "error",
     "traceback": [
      "\u001b[1;31m---------------------------------------------------------------------------\u001b[0m",
      "\u001b[1;31mAttributeError\u001b[0m                            Traceback (most recent call last)",
      "\u001b[1;32m<ipython-input-32-0962db186da3>\u001b[0m in \u001b[0;36m<module>\u001b[1;34m()\u001b[0m\n\u001b[0;32m      4\u001b[0m \u001b[0mmy_dist\u001b[0m \u001b[1;33m=\u001b[0m \u001b[0mnp\u001b[0m\u001b[1;33m.\u001b[0m\u001b[0masarray\u001b[0m\u001b[1;33m(\u001b[0m\u001b[0mdata\u001b[0m\u001b[1;33m)\u001b[0m\u001b[1;33m\u001b[0m\u001b[0m\n\u001b[0;32m      5\u001b[0m \u001b[0mx\u001b[0m \u001b[1;33m=\u001b[0m \u001b[0mnp\u001b[0m\u001b[1;33m.\u001b[0m\u001b[0mlinspace\u001b[0m\u001b[1;33m(\u001b[0m\u001b[1;36m0\u001b[0m\u001b[1;33m,\u001b[0m\u001b[1;36m10000\u001b[0m\u001b[1;33m,\u001b[0m\u001b[1;36m1\u001b[0m\u001b[1;33m)\u001b[0m\u001b[1;33m\u001b[0m\u001b[0m\n\u001b[1;32m----> 6\u001b[1;33m \u001b[0mplt\u001b[0m\u001b[1;33m.\u001b[0m\u001b[0mplot\u001b[0m\u001b[1;33m(\u001b[0m\u001b[0mx\u001b[0m\u001b[1;33m,\u001b[0m \u001b[0mmy_dist\u001b[0m\u001b[1;33m.\u001b[0m\u001b[0mpdf\u001b[0m\u001b[1;33m(\u001b[0m\u001b[0mx\u001b[0m\u001b[1;33m)\u001b[0m\u001b[1;33m)\u001b[0m\u001b[1;33m\u001b[0m\u001b[0m\n\u001b[0m\u001b[0;32m      7\u001b[0m \u001b[0mplt\u001b[0m\u001b[1;33m.\u001b[0m\u001b[0mplot\u001b[0m\u001b[1;33m(\u001b[0m\u001b[0mx\u001b[0m\u001b[1;33m,\u001b[0m \u001b[0mmy_dist\u001b[0m\u001b[1;33m.\u001b[0m\u001b[0mcdf\u001b[0m\u001b[1;33m(\u001b[0m\u001b[0mx\u001b[0m\u001b[1;33m)\u001b[0m\u001b[1;33m)\u001b[0m\u001b[1;33m\u001b[0m\u001b[0m\n\u001b[0;32m      8\u001b[0m \u001b[1;31m# Stats\u001b[0m\u001b[1;33m\u001b[0m\u001b[1;33m\u001b[0m\u001b[0m\n",
      "\u001b[1;31mAttributeError\u001b[0m: 'numpy.ndarray' object has no attribute 'pdf'"
     ]
    }
   ],
   "source": [
    "print(type(data))\n",
    "print(type(np.asarray(data)))\n",
    "\n",
    "my_dist = np.asarray(data)\n",
    "x = np.linspace(0,10000,1)\n",
    "plt.plot(x, my_dist.pdf(x))\n",
    "plt.plot(x, my_dist.cdf(x))\n",
    "# Stats\n",
    "print('mean:', my_dist.mean(), 'std:', my_dist.std())\n",
    "# Get a large sample to check bounds\n",
    "sample = my_dist.rvs(size=100000)\n",
    "print('min:', sample.min(), 'max:', sample.max())"
   ]
  },
  {
   "cell_type": "code",
   "execution_count": null,
   "metadata": {},
   "outputs": [],
   "source": []
  },
  {
   "cell_type": "code",
   "execution_count": 36,
   "metadata": {},
   "outputs": [],
   "source": [
    "import random\n",
    "from scipy.stats import norm\n",
    "\n",
    "def myerson(p10, p50, p90, number_of_samples):\n",
    "    b_mark = ((float(p90) - float(p50)) / (float(p50) - float(p10)))\n",
    "    samples = []\n",
    "    for i in range(number_of_samples):\n",
    "        rand_numb = random.random()\n",
    "        factor = norm.ppf(rand_numb, 0, 0.780304146072379)\n",
    "        if 0.9999 < b_mark < 1.0001: \n",
    "            sample = p50 + (p90 - p50) * factor\n",
    "        else:\n",
    "            sample = p50 + (p90 - p50)*((b_mark**factor - 1)/(b_mark - 1))\n",
    "        samples.append(sample)\n",
    "    return samples"
   ]
  },
  {
   "cell_type": "code",
   "execution_count": 37,
   "metadata": {},
   "outputs": [
    {
     "name": "stdout",
     "output_type": "stream",
     "text": [
      " P10in : 90.0000  => P10out : 90.0362\n",
      " P50in : 100.0000  => P50out : 99.9105\n",
      " P90in : 110.0000  => P90out : 110.0033\n"
     ]
    }
   ],
   "source": [
    "p10_in = 90\n",
    "p50_in = 100\n",
    "p90_in = 110  # in fact P10\n",
    "numberofsamples = 10000\n",
    "data = myerson(p10_in, p50_in, p90_in, numberofsamples)\n",
    "\n",
    "p10_out = np.percentile(data,10)\n",
    "p50_out = np.percentile(data,50)\n",
    "p90_out = np.percentile(data,90)\n",
    "\n",
    "print(' P10in : {:.4f}  => P10out : {:.4f}'.format(p10_in,p10_out ))\n",
    "print(' P50in : {:.4f}  => P50out : {:.4f}'.format(p50_in,p50_out ))\n",
    "print(' P90in : {:.4f}  => P90out : {:.4f}'.format(p90_in,p90_out ))\n"
   ]
  },
  {
   "cell_type": "code",
   "execution_count": 40,
   "metadata": {},
   "outputs": [
    {
     "data": {
      "text/plain": [
       "list"
      ]
     },
     "execution_count": 40,
     "metadata": {},
     "output_type": "execute_result"
    }
   ],
   "source": [
    "norm.rvs()"
   ]
  },
  {
   "cell_type": "code",
   "execution_count": 38,
   "metadata": {},
   "outputs": [
    {
     "ename": "AttributeError",
     "evalue": "'list' object has no attribute 'pdf'",
     "output_type": "error",
     "traceback": [
      "\u001b[1;31m---------------------------------------------------------------------------\u001b[0m",
      "\u001b[1;31mAttributeError\u001b[0m                            Traceback (most recent call last)",
      "\u001b[1;32m<ipython-input-38-713a992503de>\u001b[0m in \u001b[0;36m<module>\u001b[1;34m()\u001b[0m\n\u001b[0;32m      1\u001b[0m \u001b[0mmy_dist\u001b[0m \u001b[1;33m=\u001b[0m \u001b[0mdata\u001b[0m\u001b[1;33m\u001b[0m\u001b[0m\n\u001b[0;32m      2\u001b[0m \u001b[0mx\u001b[0m \u001b[1;33m=\u001b[0m \u001b[0mnp\u001b[0m\u001b[1;33m.\u001b[0m\u001b[0mlinspace\u001b[0m\u001b[1;33m(\u001b[0m\u001b[1;36m0\u001b[0m\u001b[1;33m,\u001b[0m\u001b[1;36m10000\u001b[0m\u001b[1;33m,\u001b[0m\u001b[1;36m1\u001b[0m\u001b[1;33m)\u001b[0m\u001b[1;33m\u001b[0m\u001b[0m\n\u001b[1;32m----> 3\u001b[1;33m \u001b[0mplt\u001b[0m\u001b[1;33m.\u001b[0m\u001b[0mplot\u001b[0m\u001b[1;33m(\u001b[0m\u001b[0mx\u001b[0m\u001b[1;33m,\u001b[0m \u001b[0mmy_dist\u001b[0m\u001b[1;33m.\u001b[0m\u001b[0mpdf\u001b[0m\u001b[1;33m(\u001b[0m\u001b[0mx\u001b[0m\u001b[1;33m)\u001b[0m\u001b[1;33m)\u001b[0m\u001b[1;33m\u001b[0m\u001b[0m\n\u001b[0m\u001b[0;32m      4\u001b[0m \u001b[0mplt\u001b[0m\u001b[1;33m.\u001b[0m\u001b[0mplot\u001b[0m\u001b[1;33m(\u001b[0m\u001b[0mx\u001b[0m\u001b[1;33m,\u001b[0m \u001b[0mmy_dist\u001b[0m\u001b[1;33m.\u001b[0m\u001b[0mcdf\u001b[0m\u001b[1;33m(\u001b[0m\u001b[0mx\u001b[0m\u001b[1;33m)\u001b[0m\u001b[1;33m)\u001b[0m\u001b[1;33m\u001b[0m\u001b[0m\n\u001b[0;32m      5\u001b[0m \u001b[1;31m# Stats\u001b[0m\u001b[1;33m\u001b[0m\u001b[1;33m\u001b[0m\u001b[0m\n",
      "\u001b[1;31mAttributeError\u001b[0m: 'list' object has no attribute 'pdf'"
     ]
    }
   ],
   "source": [
    "my_dist = data\n",
    "x = np.linspace(0,10000,1)\n",
    "plt.plot(x, my_dist.pdf(x))\n",
    "plt.plot(x, my_dist.cdf(x))\n",
    "# Stats\n",
    "print('mean:', my_dist.mean(), 'std:', my_dist.std())\n",
    "# Get a large sample to check bounds\n",
    "sample = my_dist.rvs(size=100000)\n",
    "print('min:', sample.min(), 'max:', sample.max())"
   ]
  },
  {
   "cell_type": "markdown",
   "metadata": {
    "heading_collapsed": true
   },
   "source": [
    "# Reservoir distributions"
   ]
  },
  {
   "cell_type": "markdown",
   "metadata": {
    "hidden": true
   },
   "source": [
    "|HC yield boundaries|\n",
    "|----------------------|\n",
    "| Porosity Range (enter as a percentage)\t|1.0|\t40.0|\n",
    "|\tHC Saturation (enter as a percentage) \t|15\t|95|\n",
    "|\tFormation Volume Factor (FVF, Bo) Range |\t1.0000|\t4.0000|\n",
    "|\tGas Expansion Factor (GEF, 1/Bg) Range \t|25\t|750|\n",
    "|\tRecovery Efficiency - OIL (enter as a percentage) |\t1\t|75|\n",
    "|\tRecovery Efficiency - GAS (enter as a percentage) |\t20\t|95|\n",
    "\n",
    "<table>\n",
    "<th><td>Properties</td><td>Distributions</td></tr>\n",
    "<tr><td>Area</td><td>NORMAL</td></tr>\n",
    "<tr><td>NTG</td><td>Beta</td></tr>\n",
    "<tr><td>Porosity</td><td>NORMAL</td></tr>\n",
    "<tr><td>Saturation</td><td>NORMAL</td></tr>\n",
    "<tr><td>FVF</td><td>NORMAL</td></tr>\n",
    "<tr><td>GOR</td><td>Lognormal</td></tr>\n",
    "<tr><td>Recovery</td><td>Beta</td></tr>\n",
    "<tr><td></td><td></td></tr>\n",
    "<tr><td>Geometry</td><td>Slab/Uniform</td></tr>\n",
    "</table>\n"
   ]
  },
  {
   "cell_type": "code",
   "execution_count": 151,
   "metadata": {
    "hidden": true
   },
   "outputs": [
    {
     "data": {
      "text/html": [
       "<div>\n",
       "<style>\n",
       "    .dataframe thead tr:only-child th {\n",
       "        text-align: right;\n",
       "    }\n",
       "\n",
       "    .dataframe thead th {\n",
       "        text-align: left;\n",
       "    }\n",
       "\n",
       "    .dataframe tbody tr th {\n",
       "        vertical-align: top;\n",
       "    }\n",
       "</style>\n",
       "<table border=\"1\" class=\"dataframe\">\n",
       "  <thead>\n",
       "    <tr style=\"text-align: right;\">\n",
       "      <th></th>\n",
       "      <th>Distribution</th>\n",
       "      <th>low</th>\n",
       "      <th>best</th>\n",
       "      <th>high</th>\n",
       "    </tr>\n",
       "  </thead>\n",
       "  <tbody>\n",
       "    <tr>\n",
       "      <th>Area</th>\n",
       "      <td>none</td>\n",
       "      <td>NaN</td>\n",
       "      <td>3.00</td>\n",
       "      <td>NaN</td>\n",
       "    </tr>\n",
       "    <tr>\n",
       "      <th>h</th>\n",
       "      <td>none</td>\n",
       "      <td>NaN</td>\n",
       "      <td>20.00</td>\n",
       "      <td>NaN</td>\n",
       "    </tr>\n",
       "    <tr>\n",
       "      <th>Shape</th>\n",
       "      <td>none</td>\n",
       "      <td>NaN</td>\n",
       "      <td>1.00</td>\n",
       "      <td>NaN</td>\n",
       "    </tr>\n",
       "    <tr>\n",
       "      <th>GRV</th>\n",
       "      <td>lognormal</td>\n",
       "      <td>198.30</td>\n",
       "      <td>430.00</td>\n",
       "      <td>640.20</td>\n",
       "    </tr>\n",
       "    <tr>\n",
       "      <th>NTG</th>\n",
       "      <td>normal</td>\n",
       "      <td>0.15</td>\n",
       "      <td>0.30</td>\n",
       "      <td>0.45</td>\n",
       "    </tr>\n",
       "    <tr>\n",
       "      <th>Phi</th>\n",
       "      <td>normal</td>\n",
       "      <td>0.27</td>\n",
       "      <td>0.29</td>\n",
       "      <td>0.31</td>\n",
       "    </tr>\n",
       "    <tr>\n",
       "      <th>So</th>\n",
       "      <td>normal</td>\n",
       "      <td>0.68</td>\n",
       "      <td>0.78</td>\n",
       "      <td>0.88</td>\n",
       "    </tr>\n",
       "    <tr>\n",
       "      <th>HCPV</th>\n",
       "      <td>none</td>\n",
       "      <td>NaN</td>\n",
       "      <td>NaN</td>\n",
       "      <td>NaN</td>\n",
       "    </tr>\n",
       "    <tr>\n",
       "      <th>FVF (1/Bo)</th>\n",
       "      <td>none</td>\n",
       "      <td>1.15</td>\n",
       "      <td>1.15</td>\n",
       "      <td>1.15</td>\n",
       "    </tr>\n",
       "    <tr>\n",
       "      <th>Oil RF</th>\n",
       "      <td>none</td>\n",
       "      <td>NaN</td>\n",
       "      <td>0.25</td>\n",
       "      <td>NaN</td>\n",
       "    </tr>\n",
       "  </tbody>\n",
       "</table>\n",
       "</div>"
      ],
      "text/plain": [
       "           Distribution     low    best    high\n",
       "Area               none     NaN    3.00     NaN\n",
       "h                  none     NaN   20.00     NaN\n",
       "Shape              none     NaN    1.00     NaN\n",
       "GRV           lognormal  198.30  430.00  640.20\n",
       "NTG              normal    0.15    0.30    0.45\n",
       "Phi              normal    0.27    0.29    0.31\n",
       "So               normal    0.68    0.78    0.88\n",
       "HCPV               none     NaN     NaN     NaN\n",
       "FVF (1/Bo)         none    1.15    1.15    1.15\n",
       "Oil RF             none     NaN    0.25     NaN"
      ]
     },
     "execution_count": 151,
     "metadata": {},
     "output_type": "execute_result"
    }
   ],
   "source": [
    "df = pd.read_excel(r'C:\\Users\\philippe.mieussens\\Documents\\99-Python\\999-Input-Data\\Project_Rosbif\\CrystalBall.xlsx', sheetname='Input')\n",
    "df"
   ]
  },
  {
   "cell_type": "code",
   "execution_count": 153,
   "metadata": {
    "hidden": true
   },
   "outputs": [
    {
     "data": {
      "text/plain": [
       "['Area',\n",
       " 'h',\n",
       " 'Shape',\n",
       " 'GRV',\n",
       " 'NTG',\n",
       " 'Phi',\n",
       " 'So',\n",
       " 'HCPV',\n",
       " 'FVF (1/Bo)',\n",
       " 'Oil RF']"
      ]
     },
     "execution_count": 153,
     "metadata": {},
     "output_type": "execute_result"
    }
   ],
   "source": [
    "df.index.tolist()"
   ]
  },
  {
   "cell_type": "code",
   "execution_count": 161,
   "metadata": {
    "hidden": true
   },
   "outputs": [
    {
     "data": {
      "text/html": [
       "<div>\n",
       "<style>\n",
       "    .dataframe thead tr:only-child th {\n",
       "        text-align: right;\n",
       "    }\n",
       "\n",
       "    .dataframe thead th {\n",
       "        text-align: left;\n",
       "    }\n",
       "\n",
       "    .dataframe tbody tr th {\n",
       "        vertical-align: top;\n",
       "    }\n",
       "</style>\n",
       "<table border=\"1\" class=\"dataframe\">\n",
       "  <thead>\n",
       "    <tr style=\"text-align: right;\">\n",
       "      <th></th>\n",
       "      <th>Area</th>\n",
       "      <th>FVF (1/Bo)</th>\n",
       "      <th>GRV</th>\n",
       "      <th>HCPV</th>\n",
       "      <th>NTG</th>\n",
       "      <th>Oil RF</th>\n",
       "      <th>Phi</th>\n",
       "      <th>Shape</th>\n",
       "      <th>Shc</th>\n",
       "      <th>h</th>\n",
       "    </tr>\n",
       "  </thead>\n",
       "  <tbody>\n",
       "    <tr>\n",
       "      <th>Simulation_1</th>\n",
       "      <td>1</td>\n",
       "      <td>1</td>\n",
       "      <td>1</td>\n",
       "      <td>1</td>\n",
       "      <td>1</td>\n",
       "      <td>1</td>\n",
       "      <td>1</td>\n",
       "      <td>1</td>\n",
       "      <td>1</td>\n",
       "      <td>1</td>\n",
       "    </tr>\n",
       "    <tr>\n",
       "      <th>Simulation_2</th>\n",
       "      <td>2</td>\n",
       "      <td>2</td>\n",
       "      <td>2</td>\n",
       "      <td>2</td>\n",
       "      <td>2</td>\n",
       "      <td>2</td>\n",
       "      <td>2</td>\n",
       "      <td>2</td>\n",
       "      <td>2</td>\n",
       "      <td>2</td>\n",
       "    </tr>\n",
       "  </tbody>\n",
       "</table>\n",
       "</div>"
      ],
      "text/plain": [
       "              Area  FVF (1/Bo)  GRV  HCPV  NTG  Oil RF  Phi  Shape  Shc  h\n",
       "Simulation_1     1           1    1     1    1       1    1      1    1  1\n",
       "Simulation_2     2           2    2     2    2       2    2      2    2  2"
      ]
     },
     "execution_count": 161,
     "metadata": {},
     "output_type": "execute_result"
    }
   ],
   "source": [
    "dTest = pd.DataFrame({'Area':[1,2], 'h':[1,2], 'Shape':[1,2], 'GRV':[1,2], 'NTG':[1,2], 'Phi':[1,2], 'Shc':[1,2], 'HCPV':[1,2], 'FVF (1/Bo)':[1,2], 'Oil RF':[1,2]}, index=['Simulation_1', 'Simulation_2'])\n",
    "dTest"
   ]
  },
  {
   "cell_type": "code",
   "execution_count": 162,
   "metadata": {
    "hidden": true
   },
   "outputs": [
    {
     "data": {
      "text/plain": [
       "Simulation_1     1\n",
       "Simulation_2    32\n",
       "dtype: int64"
      ]
     },
     "execution_count": 162,
     "metadata": {},
     "output_type": "execute_result"
    }
   ],
   "source": [
    "def STOIIP(row):\n",
    "    ''''''\n",
    "    # \n",
    "    return row['Area']*row['h']*row['Shape']*row['Shc']*row['NTG']\n",
    "\n",
    "dTest.apply(STOIIP, axis=1)"
   ]
  },
  {
   "cell_type": "code",
   "execution_count": 152,
   "metadata": {
    "hidden": true
   },
   "outputs": [
    {
     "data": {
      "text/plain": [
       "{'Distribution': {'Area': 'none',\n",
       "  'FVF (1/Bo)': 'none',\n",
       "  'GRV': 'lognormal',\n",
       "  'HCPV': 'none',\n",
       "  'NTG': 'normal',\n",
       "  'Oil RF': 'none',\n",
       "  'Phi': 'normal',\n",
       "  'Shape': 'none',\n",
       "  'So': 'normal',\n",
       "  'h': 'none'},\n",
       " 'best': {'Area': 3.0,\n",
       "  'FVF (1/Bo)': 1.1499999999999999,\n",
       "  'GRV': 430.0,\n",
       "  'HCPV': nan,\n",
       "  'NTG': 0.29999999999999999,\n",
       "  'Oil RF': 0.25,\n",
       "  'Phi': 0.28999999999999998,\n",
       "  'Shape': 1.0,\n",
       "  'So': 0.78000000000000003,\n",
       "  'h': 20.0},\n",
       " 'high': {'Area': nan,\n",
       "  'FVF (1/Bo)': 1.1499999999999999,\n",
       "  'GRV': 640.20000000000005,\n",
       "  'HCPV': nan,\n",
       "  'NTG': 0.45000000000000001,\n",
       "  'Oil RF': nan,\n",
       "  'Phi': 0.31,\n",
       "  'Shape': nan,\n",
       "  'So': 0.88,\n",
       "  'h': nan},\n",
       " 'low': {'Area': nan,\n",
       "  'FVF (1/Bo)': 1.1499999999999999,\n",
       "  'GRV': 198.30000000000001,\n",
       "  'HCPV': nan,\n",
       "  'NTG': 0.14999999999999999,\n",
       "  'Oil RF': nan,\n",
       "  'Phi': 0.27000000000000002,\n",
       "  'Shape': nan,\n",
       "  'So': 0.68000000000000005,\n",
       "  'h': nan}}"
      ]
     },
     "execution_count": 152,
     "metadata": {},
     "output_type": "execute_result"
    }
   ],
   "source": [
    "df.to_dict()"
   ]
  },
  {
   "cell_type": "markdown",
   "metadata": {
    "hidden": true
   },
   "source": [
    "## real data - binning, hist plot, CDF"
   ]
  },
  {
   "cell_type": "code",
   "execution_count": 40,
   "metadata": {
    "hidden": true
   },
   "outputs": [],
   "source": [
    "import pandas as pd\n",
    "import numpy as np\n",
    "import matplotlib.pyplot as plt\n",
    "\n",
    "%matplotlib inline\n",
    "\n",
    "from IPython.display import display, HTML\n",
    "\n",
    "\n",
    "def GenDistrib_df(Samples_df,col, bin_step):\n",
    "    ''''''\n",
    "    Min  = Samples_df[col].min()\n",
    "    Max  = Samples_df[col].max()\n",
    "    Mean = Samples_df[col].mean()\n",
    "    \n",
    "    print(' The data as a max of {:.4f},  a min of {:.4f} with a arithmetic average of {:.4f}'.format(Max, Min, Mean) )\n",
    "    \n",
    "    def Str(row,col,lft_sign = '[',rgt_sign = ']'):\n",
    "        ''''''\n",
    "        return '{}{:3.0f}-{:3.0f}{}'.format(lft_sign, row[col].left, row[col].right, rgt_sign)\n",
    "    \n",
    "    def GenBins(Min, Max, bin_step):\n",
    "        '''Generate the bins automatically based on extrema and bin step'''\n",
    "    \n",
    "        # the bins\n",
    "        Min = float(Min)\n",
    "        Max = float(Max)\n",
    "        bin_step = float(bin_step)\n",
    "\n",
    "        bins_list = np.arange(int(Min), Max+bin_step, bin_step)\n",
    "\n",
    "        return bins_list\n",
    "\n",
    "    \n",
    "    bins_list = GenBins(Min, Max, bin_step)\n",
    "\n",
    "    Samples_df['bins']   = pd.cut(Samples_df[col], bins=bins_list)\n",
    "    Samples_df['binned'] = Samples_df.apply(Str, col='bins', axis=1)\n",
    "    \n",
    "    # Assign the labelled bin to each record\n",
    "    #Samples_df['binned'] = pd.cut(Samples_df[col], bins=bins_list, labels = Samples_df['binned'].tolist())\n",
    "    \n",
    "    Distrib_df = Samples_df.groupby(pd.cut(Samples_df[col], bins=bins_list)).size().to_frame(name= col+'_Counts')\n",
    "    Distrib_df[col+'_Freq']    = Distrib_df[col+'_Counts']/len(Samples_df)\n",
    "    Distrib_df[col+'_CumFreq'] = Distrib_df[col+'_Freq'].cumsum()\n",
    "    \n",
    "    #PlotDistribution(Samples_df, Distrib_df,'Dataset',int(Min), Max+bin_step,bins_list)\n",
    "    \n",
    "    return Samples_df , Distrib_df\n"
   ]
  },
  {
   "cell_type": "markdown",
   "metadata": {
    "heading_collapsed": true
   },
   "source": [
    "# Current work"
   ]
  },
  {
   "cell_type": "code",
   "execution_count": 47,
   "metadata": {
    "hidden": true
   },
   "outputs": [
    {
     "name": "stdout",
     "output_type": "stream",
     "text": [
      " The data as a max of 90.2000,  a min of 10.1000 with a arithmetic average of 47.8111\n"
     ]
    }
   ],
   "source": [
    "data = [10.1,20,30,40,50,55,60,75,90.2]\n",
    "df = pd.DataFrame({'Dataset':data})  \n",
    "\n",
    "\n",
    "df, ddist =  GenDistrib_df(df,'Dataset', 10)\n"
   ]
  },
  {
   "cell_type": "code",
   "execution_count": 52,
   "metadata": {
    "hidden": true
   },
   "outputs": [
    {
     "data": {
      "text/html": [
       "<div>\n",
       "<style>\n",
       "    .dataframe thead tr:only-child th {\n",
       "        text-align: right;\n",
       "    }\n",
       "\n",
       "    .dataframe thead th {\n",
       "        text-align: left;\n",
       "    }\n",
       "\n",
       "    .dataframe tbody tr th {\n",
       "        vertical-align: top;\n",
       "    }\n",
       "</style>\n",
       "<table border=\"1\" class=\"dataframe\">\n",
       "  <thead>\n",
       "    <tr style=\"text-align: right;\">\n",
       "      <th></th>\n",
       "      <th>Dataset</th>\n",
       "      <th>bins</th>\n",
       "      <th>binned</th>\n",
       "    </tr>\n",
       "  </thead>\n",
       "  <tbody>\n",
       "    <tr>\n",
       "      <th>0</th>\n",
       "      <td>10.1</td>\n",
       "      <td>(10.0, 20.0]</td>\n",
       "      <td>[ 10- 20]</td>\n",
       "    </tr>\n",
       "    <tr>\n",
       "      <th>1</th>\n",
       "      <td>20.0</td>\n",
       "      <td>(10.0, 20.0]</td>\n",
       "      <td>[ 10- 20]</td>\n",
       "    </tr>\n",
       "    <tr>\n",
       "      <th>2</th>\n",
       "      <td>30.0</td>\n",
       "      <td>(20.0, 30.0]</td>\n",
       "      <td>[ 20- 30]</td>\n",
       "    </tr>\n",
       "    <tr>\n",
       "      <th>3</th>\n",
       "      <td>40.0</td>\n",
       "      <td>(30.0, 40.0]</td>\n",
       "      <td>[ 30- 40]</td>\n",
       "    </tr>\n",
       "    <tr>\n",
       "      <th>4</th>\n",
       "      <td>50.0</td>\n",
       "      <td>(40.0, 50.0]</td>\n",
       "      <td>[ 40- 50]</td>\n",
       "    </tr>\n",
       "    <tr>\n",
       "      <th>5</th>\n",
       "      <td>55.0</td>\n",
       "      <td>(50.0, 60.0]</td>\n",
       "      <td>[ 50- 60]</td>\n",
       "    </tr>\n",
       "    <tr>\n",
       "      <th>6</th>\n",
       "      <td>60.0</td>\n",
       "      <td>(50.0, 60.0]</td>\n",
       "      <td>[ 50- 60]</td>\n",
       "    </tr>\n",
       "    <tr>\n",
       "      <th>7</th>\n",
       "      <td>75.0</td>\n",
       "      <td>(70.0, 80.0]</td>\n",
       "      <td>[ 70- 80]</td>\n",
       "    </tr>\n",
       "    <tr>\n",
       "      <th>8</th>\n",
       "      <td>90.2</td>\n",
       "      <td>(90.0, 100.0]</td>\n",
       "      <td>[ 90-100]</td>\n",
       "    </tr>\n",
       "  </tbody>\n",
       "</table>\n",
       "</div>"
      ],
      "text/plain": [
       "   Dataset           bins     binned\n",
       "0     10.1   (10.0, 20.0]  [ 10- 20]\n",
       "1     20.0   (10.0, 20.0]  [ 10- 20]\n",
       "2     30.0   (20.0, 30.0]  [ 20- 30]\n",
       "3     40.0   (30.0, 40.0]  [ 30- 40]\n",
       "4     50.0   (40.0, 50.0]  [ 40- 50]\n",
       "5     55.0   (50.0, 60.0]  [ 50- 60]\n",
       "6     60.0   (50.0, 60.0]  [ 50- 60]\n",
       "7     75.0   (70.0, 80.0]  [ 70- 80]\n",
       "8     90.2  (90.0, 100.0]  [ 90-100]"
      ]
     },
     "metadata": {},
     "output_type": "display_data"
    },
    {
     "data": {
      "text/html": [
       "<div>\n",
       "<style>\n",
       "    .dataframe thead tr:only-child th {\n",
       "        text-align: right;\n",
       "    }\n",
       "\n",
       "    .dataframe thead th {\n",
       "        text-align: left;\n",
       "    }\n",
       "\n",
       "    .dataframe tbody tr th {\n",
       "        vertical-align: top;\n",
       "    }\n",
       "</style>\n",
       "<table border=\"1\" class=\"dataframe\">\n",
       "  <thead>\n",
       "    <tr style=\"text-align: right;\">\n",
       "      <th></th>\n",
       "      <th>Dataset_Counts</th>\n",
       "      <th>Dataset_Freq</th>\n",
       "      <th>Dataset_CumFreq</th>\n",
       "    </tr>\n",
       "    <tr>\n",
       "      <th>Dataset</th>\n",
       "      <th></th>\n",
       "      <th></th>\n",
       "      <th></th>\n",
       "    </tr>\n",
       "  </thead>\n",
       "  <tbody>\n",
       "    <tr>\n",
       "      <th>(10.0, 20.0]</th>\n",
       "      <td>2</td>\n",
       "      <td>0.222222</td>\n",
       "      <td>0.222222</td>\n",
       "    </tr>\n",
       "    <tr>\n",
       "      <th>(20.0, 30.0]</th>\n",
       "      <td>1</td>\n",
       "      <td>0.111111</td>\n",
       "      <td>0.333333</td>\n",
       "    </tr>\n",
       "    <tr>\n",
       "      <th>(30.0, 40.0]</th>\n",
       "      <td>1</td>\n",
       "      <td>0.111111</td>\n",
       "      <td>0.444444</td>\n",
       "    </tr>\n",
       "    <tr>\n",
       "      <th>(40.0, 50.0]</th>\n",
       "      <td>1</td>\n",
       "      <td>0.111111</td>\n",
       "      <td>0.555556</td>\n",
       "    </tr>\n",
       "    <tr>\n",
       "      <th>(50.0, 60.0]</th>\n",
       "      <td>2</td>\n",
       "      <td>0.222222</td>\n",
       "      <td>0.777778</td>\n",
       "    </tr>\n",
       "    <tr>\n",
       "      <th>(60.0, 70.0]</th>\n",
       "      <td>0</td>\n",
       "      <td>0.000000</td>\n",
       "      <td>0.777778</td>\n",
       "    </tr>\n",
       "    <tr>\n",
       "      <th>(70.0, 80.0]</th>\n",
       "      <td>1</td>\n",
       "      <td>0.111111</td>\n",
       "      <td>0.888889</td>\n",
       "    </tr>\n",
       "    <tr>\n",
       "      <th>(80.0, 90.0]</th>\n",
       "      <td>0</td>\n",
       "      <td>0.000000</td>\n",
       "      <td>0.888889</td>\n",
       "    </tr>\n",
       "    <tr>\n",
       "      <th>(90.0, 100.0]</th>\n",
       "      <td>1</td>\n",
       "      <td>0.111111</td>\n",
       "      <td>1.000000</td>\n",
       "    </tr>\n",
       "  </tbody>\n",
       "</table>\n",
       "</div>"
      ],
      "text/plain": [
       "               Dataset_Counts  Dataset_Freq  Dataset_CumFreq\n",
       "Dataset                                                     \n",
       "(10.0, 20.0]                2      0.222222         0.222222\n",
       "(20.0, 30.0]                1      0.111111         0.333333\n",
       "(30.0, 40.0]                1      0.111111         0.444444\n",
       "(40.0, 50.0]                1      0.111111         0.555556\n",
       "(50.0, 60.0]                2      0.222222         0.777778\n",
       "(60.0, 70.0]                0      0.000000         0.777778\n",
       "(70.0, 80.0]                1      0.111111         0.888889\n",
       "(80.0, 90.0]                0      0.000000         0.888889\n",
       "(90.0, 100.0]               1      0.111111         1.000000"
      ]
     },
     "metadata": {},
     "output_type": "display_data"
    },
    {
     "data": {
      "text/plain": [
       "array([10, 15, 20, 25, 30, 35, 40, 45, 50, 55, 60, 65, 70, 75, 80, 85, 90])"
      ]
     },
     "execution_count": 52,
     "metadata": {},
     "output_type": "execute_result"
    }
   ],
   "source": [
    "def PlotDistribution(dataframe_samples,dataframe_distribution,  col, xmin, xmax, bins):\n",
    "    \n",
    "    fig, ax1 = plt.subplots()\n",
    "\n",
    "    # 1st axis plot - the histogram\n",
    "    ax1.set_xlim(xmin,xmax)\n",
    "    \n",
    "    ax1.hist(dataframe_samples[col],bins=bins,cumulative=False, stacked=False, alpha=.4)\n",
    "    \n",
    "    # now the grid\n",
    "    minor_ticks = np.arange(xmin,xmax, bins[1]-bins[0])\n",
    "    ax1.set_xticks(minor_ticks, minor=True)\n",
    "    ax1.grid(which='major',axis='x', color='w', linestyle='--')\n",
    "    ax1.grid(which='minor',axis='x', color='w', linestyle='--')\n",
    "    \n",
    "    # 2nd axis - the cumulative frequency\n",
    "    ax2 = ax1.twinx()\n",
    "\n",
    "    ax2.plot(np.arange(xmin,xmin,bins[0]-bins[1]),dataframe_distribution[col+'_CumFreq'], color='r', alpha=.7)\n",
    "    \n",
    "    # draw the P10,P50 and P90 lines\n",
    "    ax2.plot([xmin,xmax], [.1, .1], color='grey', linestyle='--', linewidth = 1, alpha=.5)\n",
    "    ax2.plot([xmin,xmax], [.5, .5], color='grey', linestyle='--', linewidth = 1, alpha=.5)\n",
    "    ax2.plot([xmin,xmax], [.9, .9], color='grey', linestyle='--', linewidth = 1, alpha=.5)\n",
    "\n",
    "    plt.show()\n",
    "\n",
    "\n",
    "display(df)\n",
    "display(ddist)\n",
    "\n",
    "\n",
    "\n",
    "col = 'Dataset'\n",
    "bin_step = 5\n",
    "Min  = int(df[col].min())\n",
    "Max  = int(df[col].max()+ bin_step)\n",
    "\n",
    "bins = np.arange(int(Min), Max, bin_step)\n",
    "bins"
   ]
  },
  {
   "cell_type": "code",
   "execution_count": 60,
   "metadata": {
    "hidden": true
   },
   "outputs": [],
   "source": [
    "#PlotDistribution(df, ddist,col,Min, Max, bins)"
   ]
  },
  {
   "cell_type": "code",
   "execution_count": 57,
   "metadata": {
    "hidden": true
   },
   "outputs": [
    {
     "data": {
      "image/png": "[encoded data removed]",
      "text/plain": [
       "<Figure size 432x288 with 1 Axes>"
      ]
     },
     "metadata": {},
     "output_type": "display_data"
    }
   ],
   "source": [
    "import pandas as pd\n",
    "import numpy as np\n",
    "\n",
    "ser = pd.Series(np.random.normal(size=1000))\n",
    "\n",
    "ser.hist(cumulative=True, density=1, bins=100)\n",
    "\n",
    "plt.show()"
   ]
  },
  {
   "cell_type": "code",
   "execution_count": 59,
   "metadata": {
    "hidden": true
   },
   "outputs": [
    {
     "data": {
      "text/plain": [
       "<matplotlib.axes._subplots.AxesSubplot at 0xeabb9fca20>"
      ]
     },
     "execution_count": 59,
     "metadata": {},
     "output_type": "execute_result"
    },
    {
     "data": {
      "image/png": "[encoded data removed]",
      "text/plain": [
       "<Figure size 432x288 with 1 Axes>"
      ]
     },
     "metadata": {},
     "output_type": "display_data"
    }
   ],
   "source": [
    "ser.hist(bins=100) "
   ]
  },
  {
   "cell_type": "code",
   "execution_count": 64,
   "metadata": {
    "hidden": true
   },
   "outputs": [
    {
     "data": {
      "text/plain": [
       "<matplotlib.axes._subplots.AxesSubplot at 0xeabba26a58>"
      ]
     },
     "execution_count": 64,
     "metadata": {},
     "output_type": "execute_result"
    },
    {
     "data": {
      "image/png": "[encoded data removed]",
      "text/plain": [
       "<Figure size 432x288 with 1 Axes>"
      ]
     },
     "metadata": {},
     "output_type": "display_data"
    }
   ],
   "source": [
    "ser.plot.kde()  # plot probability denisty function"
   ]
  },
  {
   "cell_type": "code",
   "execution_count": 71,
   "metadata": {
    "hidden": true
   },
   "outputs": [
    {
     "data": {
      "image/png": "[encoded data removed]",
      "text/plain": [
       "<Figure size 432x288 with 2 Axes>"
      ]
     },
     "metadata": {},
     "output_type": "display_data"
    }
   ],
   "source": [
    "fig, ax1 = plt.subplots()\n",
    "\n",
    "# 1st axis plot - the histogram\n",
    "ser.hist(bins=25,cumulative=False, stacked=False, alpha=.4, ax=ax1)\n",
    "   \n",
    "# now the grid\n",
    "ax1.grid(which='major',axis='x', color='w', linestyle='--')\n",
    "ax1.grid(which='minor',axis='x', color='w', linestyle='--')\n",
    "\n",
    "ax2 = ax1.twinx()\n",
    "ser.plot.kde(ax=ax2)\n",
    "\n",
    "plt.show()\n"
   ]
  },
  {
   "cell_type": "code",
   "execution_count": 23,
   "metadata": {
    "hidden": true
   },
   "outputs": [],
   "source": [
    "ddist['t'] = ddist.index\n",
    "ddist['t'] = ddist.apply(Str,col='t',axis=1)\n",
    "ddist.index = ddist['t'] "
   ]
  },
  {
   "cell_type": "code",
   "execution_count": 24,
   "metadata": {
    "hidden": true
   },
   "outputs": [
    {
     "data": {
      "text/html": [
       "<div>\n",
       "<style>\n",
       "    .dataframe thead tr:only-child th {\n",
       "        text-align: right;\n",
       "    }\n",
       "\n",
       "    .dataframe thead th {\n",
       "        text-align: left;\n",
       "    }\n",
       "\n",
       "    .dataframe tbody tr th {\n",
       "        vertical-align: top;\n",
       "    }\n",
       "</style>\n",
       "<table border=\"1\" class=\"dataframe\">\n",
       "  <thead>\n",
       "    <tr style=\"text-align: right;\">\n",
       "      <th></th>\n",
       "      <th>Dataset_Counts</th>\n",
       "      <th>Dataset_Freq</th>\n",
       "      <th>Dataset_CumFreq</th>\n",
       "      <th>t</th>\n",
       "    </tr>\n",
       "    <tr>\n",
       "      <th>t</th>\n",
       "      <th></th>\n",
       "      <th></th>\n",
       "      <th></th>\n",
       "      <th></th>\n",
       "    </tr>\n",
       "  </thead>\n",
       "  <tbody>\n",
       "    <tr>\n",
       "      <th>[ 10- 20]</th>\n",
       "      <td>2</td>\n",
       "      <td>0.222222</td>\n",
       "      <td>0.222222</td>\n",
       "      <td>[ 10- 20]</td>\n",
       "    </tr>\n",
       "    <tr>\n",
       "      <th>[ 20- 30]</th>\n",
       "      <td>1</td>\n",
       "      <td>0.111111</td>\n",
       "      <td>0.333333</td>\n",
       "      <td>[ 20- 30]</td>\n",
       "    </tr>\n",
       "    <tr>\n",
       "      <th>[ 30- 40]</th>\n",
       "      <td>1</td>\n",
       "      <td>0.111111</td>\n",
       "      <td>0.444444</td>\n",
       "      <td>[ 30- 40]</td>\n",
       "    </tr>\n",
       "    <tr>\n",
       "      <th>[ 40- 50]</th>\n",
       "      <td>1</td>\n",
       "      <td>0.111111</td>\n",
       "      <td>0.555556</td>\n",
       "      <td>[ 40- 50]</td>\n",
       "    </tr>\n",
       "    <tr>\n",
       "      <th>[ 50- 60]</th>\n",
       "      <td>2</td>\n",
       "      <td>0.222222</td>\n",
       "      <td>0.777778</td>\n",
       "      <td>[ 50- 60]</td>\n",
       "    </tr>\n",
       "    <tr>\n",
       "      <th>[ 60- 70]</th>\n",
       "      <td>0</td>\n",
       "      <td>0.000000</td>\n",
       "      <td>0.777778</td>\n",
       "      <td>[ 60- 70]</td>\n",
       "    </tr>\n",
       "    <tr>\n",
       "      <th>[ 70- 80]</th>\n",
       "      <td>1</td>\n",
       "      <td>0.111111</td>\n",
       "      <td>0.888889</td>\n",
       "      <td>[ 70- 80]</td>\n",
       "    </tr>\n",
       "    <tr>\n",
       "      <th>[ 80- 90]</th>\n",
       "      <td>0</td>\n",
       "      <td>0.000000</td>\n",
       "      <td>0.888889</td>\n",
       "      <td>[ 80- 90]</td>\n",
       "    </tr>\n",
       "    <tr>\n",
       "      <th>[ 90-100]</th>\n",
       "      <td>1</td>\n",
       "      <td>0.111111</td>\n",
       "      <td>1.000000</td>\n",
       "      <td>[ 90-100]</td>\n",
       "    </tr>\n",
       "  </tbody>\n",
       "</table>\n",
       "</div>"
      ],
      "text/plain": [
       "           Dataset_Counts  Dataset_Freq  Dataset_CumFreq          t\n",
       "t                                                                  \n",
       "[ 10- 20]               2      0.222222         0.222222  [ 10- 20]\n",
       "[ 20- 30]               1      0.111111         0.333333  [ 20- 30]\n",
       "[ 30- 40]               1      0.111111         0.444444  [ 30- 40]\n",
       "[ 40- 50]               1      0.111111         0.555556  [ 40- 50]\n",
       "[ 50- 60]               2      0.222222         0.777778  [ 50- 60]\n",
       "[ 60- 70]               0      0.000000         0.777778  [ 60- 70]\n",
       "[ 70- 80]               1      0.111111         0.888889  [ 70- 80]\n",
       "[ 80- 90]               0      0.000000         0.888889  [ 80- 90]\n",
       "[ 90-100]               1      0.111111         1.000000  [ 90-100]"
      ]
     },
     "execution_count": 24,
     "metadata": {},
     "output_type": "execute_result"
    }
   ],
   "source": [
    "ddist"
   ]
  },
  {
   "cell_type": "code",
   "execution_count": 16,
   "metadata": {
    "hidden": true
   },
   "outputs": [],
   "source": [
    "def Str(row,col,lft_sign = '[',rgt_sign = ']'):\n",
    "        ''''''\n",
    "        return '{}{:3.0f}-{:3.0f}{}'.format(lft_sign, row[col].left, row[col].right, rgt_sign)\n",
    "    \n"
   ]
  },
  {
   "cell_type": "code",
   "execution_count": 32,
   "metadata": {
    "hidden": true
   },
   "outputs": [
    {
     "data": {
      "text/html": [
       "<div>\n",
       "<style>\n",
       "    .dataframe thead tr:only-child th {\n",
       "        text-align: right;\n",
       "    }\n",
       "\n",
       "    .dataframe thead th {\n",
       "        text-align: left;\n",
       "    }\n",
       "\n",
       "    .dataframe tbody tr th {\n",
       "        vertical-align: top;\n",
       "    }\n",
       "</style>\n",
       "<table border=\"1\" class=\"dataframe\">\n",
       "  <thead>\n",
       "    <tr style=\"text-align: right;\">\n",
       "      <th></th>\n",
       "      <th>Dataset</th>\n",
       "      <th>bins</th>\n",
       "      <th>binned</th>\n",
       "    </tr>\n",
       "  </thead>\n",
       "  <tbody>\n",
       "    <tr>\n",
       "      <th>0</th>\n",
       "      <td>10.1</td>\n",
       "      <td>(10.0, 20.0]</td>\n",
       "      <td>[10-20]</td>\n",
       "    </tr>\n",
       "    <tr>\n",
       "      <th>1</th>\n",
       "      <td>20.0</td>\n",
       "      <td>(10.0, 20.0]</td>\n",
       "      <td>[10-20]</td>\n",
       "    </tr>\n",
       "    <tr>\n",
       "      <th>2</th>\n",
       "      <td>30.0</td>\n",
       "      <td>(20.0, 30.0]</td>\n",
       "      <td>[20-30]</td>\n",
       "    </tr>\n",
       "    <tr>\n",
       "      <th>3</th>\n",
       "      <td>40.0</td>\n",
       "      <td>(30.0, 40.0]</td>\n",
       "      <td>[30-40]</td>\n",
       "    </tr>\n",
       "    <tr>\n",
       "      <th>4</th>\n",
       "      <td>50.0</td>\n",
       "      <td>(40.0, 50.0]</td>\n",
       "      <td>[40-50]</td>\n",
       "    </tr>\n",
       "    <tr>\n",
       "      <th>5</th>\n",
       "      <td>55.0</td>\n",
       "      <td>(50.0, 60.0]</td>\n",
       "      <td>[50-60]</td>\n",
       "    </tr>\n",
       "    <tr>\n",
       "      <th>6</th>\n",
       "      <td>60.0</td>\n",
       "      <td>(50.0, 60.0]</td>\n",
       "      <td>[50-60]</td>\n",
       "    </tr>\n",
       "    <tr>\n",
       "      <th>7</th>\n",
       "      <td>75.0</td>\n",
       "      <td>(70.0, 80.0]</td>\n",
       "      <td>[70-80]</td>\n",
       "    </tr>\n",
       "    <tr>\n",
       "      <th>8</th>\n",
       "      <td>90.2</td>\n",
       "      <td>(90.0, 100.0]</td>\n",
       "      <td>[90-100]</td>\n",
       "    </tr>\n",
       "  </tbody>\n",
       "</table>\n",
       "</div>"
      ],
      "text/plain": [
       "   Dataset           bins    binned\n",
       "0     10.1   (10.0, 20.0]   [10-20]\n",
       "1     20.0   (10.0, 20.0]   [10-20]\n",
       "2     30.0   (20.0, 30.0]   [20-30]\n",
       "3     40.0   (30.0, 40.0]   [30-40]\n",
       "4     50.0   (40.0, 50.0]   [40-50]\n",
       "5     55.0   (50.0, 60.0]   [50-60]\n",
       "6     60.0   (50.0, 60.0]   [50-60]\n",
       "7     75.0   (70.0, 80.0]   [70-80]\n",
       "8     90.2  (90.0, 100.0]  [90-100]"
      ]
     },
     "execution_count": 32,
     "metadata": {},
     "output_type": "execute_result"
    }
   ],
   "source": [
    "df"
   ]
  },
  {
   "cell_type": "code",
   "execution_count": 15,
   "metadata": {
    "hidden": true
   },
   "outputs": [],
   "source": []
  },
  {
   "cell_type": "code",
   "execution_count": null,
   "metadata": {
    "hidden": true
   },
   "outputs": [],
   "source": [
    "Min = 10.123\n",
    "Max = 20.123\n",
    "bin_step= 2\n",
    "\n",
    "def GenBins(Min, Max, bin_step):\n",
    "    '''Generate the bins automatically based on extrema and bin step'''\n",
    "    \n",
    "    # the bins\n",
    "    Min = float(Min)\n",
    "    Max = float(Max)\n",
    "    bin_step = float(bin_step)\n",
    "    \n",
    "    bins_list = np.arange(int(Min), Max+bin_step, bin_step)\n",
    "\n",
    "    # the bins label\n",
    "    lft_sign = '['\n",
    "    rgt_sign = ']'\n",
    "    \n",
    "    bins_labels = []\n",
    "    \n",
    "    for b in bins_list.tolist():\n",
    "        \n",
    "        # numpy.where(array==item)\n",
    "    \n",
    "        if bins_list.tolist().index(b)== 0:\n",
    "            bb = '{:.0f}'.format(b)\n",
    "        else: \n",
    "            bins_labels.append(lft_sign+str(bb)+'-'+'{:.0f}'.format(b)+rgt_sign)\n",
    "            bb = '{:.0f}'.format(b)\n",
    "    \n",
    "    return bins_list, bins_labels\n",
    "\n",
    "\n",
    "bins_list, bins_label = GenBins(Min, Max, 2)"
   ]
  },
  {
   "cell_type": "code",
   "execution_count": null,
   "metadata": {
    "hidden": true
   },
   "outputs": [],
   "source": [
    "def GenDistribution(dataframe,col, bins_list, bin_labels=None):\n",
    "    ''''''\n",
    "    Min  = dataframe[col].min()\n",
    "    Max  = dataframe[col].max()\n",
    "    Mean = dataframe[col].mean()\n",
    "    \n",
    "    print(' The data as a max of {:.4f},  a min of {:.4f} with a arithmetic average of {:.4f}'.format(Max, Min, Mean) )\n",
    "    \n",
    "    # Assign the bins to each record\n",
    "    dataframe['bins']   = pd.cut(dataframe[col], bins=bins_list)\n",
    "    \n",
    "    # Assign the labelled bin to each record\n",
    "    dataframe['binned'] = pd.cut(dataframe[col], bins=bins_list, labels = bin_labels)\n",
    "    \n",
    "    Distribution = dataframe.groupby(pd.cut(dataframe[col], bins=bins_list)).size().to_frame(name= col+'_Counts')\n",
    "    Distribution[col+'_Freq']    = Distribution[col+'_Counts']/len(df)\n",
    "    Distribution[col+'_CumFreq'] = Distribution[col+'_Freq'].cumsum()\n",
    "    \n",
    "    return dataframe, Distribution\n",
    " \n",
    "   \n",
    "data = [44,240,255,139,22,156,127,286,10.2]\n",
    "df = pd.DataFrame({'Dataset':data})  \n",
    "\n",
    "df, ddist = GenDistribution(df, 'Dataset',[0, 20, 80, 140, 200, 260, 290])\n",
    "\n",
    "display(df)\n",
    "display(ddist)"
   ]
  },
  {
   "cell_type": "code",
   "execution_count": null,
   "metadata": {
    "hidden": true
   },
   "outputs": [],
   "source": [
    "%matplotlib inline\n",
    "df['Dataset'].hist(bins=bins)"
   ]
  },
  {
   "cell_type": "markdown",
   "metadata": {
    "heading_collapsed": true
   },
   "source": [
    "# Generate Random distribution from P10, P50, P90"
   ]
  },
  {
   "cell_type": "code",
   "execution_count": null,
   "metadata": {
    "hidden": true
   },
   "outputs": [],
   "source": [
    "import random\n",
    "import matplotlib.pyplot as plt\n",
    "import numpy as np\n",
    "import pandas as pd\n",
    "\n",
    "from scipy.stats import norm\n",
    "import scipy.stats\n",
    "from IPython.display import display, HTML\n",
    "\n",
    "%matplotlib inline\n",
    "\n",
    "def GenDistribution(dataframe,col, bins_list, bin_labels=None):\n",
    "    ''''''\n",
    "    Min  = dataframe[col].min()\n",
    "    Max  = dataframe[col].max()\n",
    "    Mean = dataframe[col].mean()\n",
    "    \n",
    "    print(' The data as a max of {:.4f},  a min of {:.4f} with a arithmetic average of {:.4f}'.format(Max, Min, Mean) )\n",
    "    \n",
    "    # Assign the bins to each record\n",
    "    dataframe['bins']   = pd.cut(dataframe[col], bins=bins_list)\n",
    "    \n",
    "    # Assign the labelled bin to each record\n",
    "    dataframe['binned'] = pd.cut(dataframe[col], bins=bins_list, labels = bin_labels)\n",
    "    \n",
    "    Distribution = dataframe.groupby(pd.cut(dataframe[col], bins=bins_list)).size().to_frame(name= col+'_Counts')\n",
    "    Distribution[col+'_Freq']    = Distribution[col+'_Counts']/len(dataframe)\n",
    "    Distribution[col+'_CumFreq'] = Distribution[col+'_Freq'].cumsum()\n",
    "    \n",
    "    return dataframe, Distribution\n",
    "\n",
    "\n",
    "def myerson(p10, p50, p90, number_of_samples):\n",
    "    b_mark = ((float(p90) - float(p50)) / (float(p50) - float(p10)))\n",
    "    samples = []\n",
    "    for i in range(number_of_samples):\n",
    "        rand_numb = random.random()\n",
    "        factor = norm.ppf(rand_numb, 0, 0.780304146072379)\n",
    "        if 0.9999 < b_mark < 1.0001: \n",
    "            sample = p50 + (p90 - p50) * factor\n",
    "        else:\n",
    "            sample = p50 + (p90 - p50)*((b_mark**factor - 1)/(b_mark - 1))\n",
    "        samples.append(sample)\n",
    "    return samples\n",
    "\n",
    "def PlotDistribution(dataframe_samples,dataframe_distribution,  col, xmin, xmax, bins):\n",
    "    \n",
    "    fig, ax1 = plt.subplots()\n",
    "\n",
    "    # 1st axis plot - the histogram\n",
    "    ax1.set_xlim(xmin,xmax)\n",
    "\n",
    "    ax1.hist(dataframe_samples[col],bins=bins,cumulative=False, stacked=False, alpha=.4)\n",
    "    ax1.grid(which='major',axis='x', color='w', linestyle='--')\n",
    "    \n",
    "    # 2nd axis - the cumulative frequency\n",
    "    ax2 = ax1.twinx()\n",
    "\n",
    "    ax2.plot(np.arange(134,72.5,  -5),dataframe_distribution[col+'_CumFreq'], color='r', alpha=.7)\n",
    "    \n",
    "    # draw the P10,P50 and P90 lines\n",
    "    ax2.plot([xmin,xmax], [.1, .1], color='grey', linestyle='--', linewidth = 1, alpha=.5)\n",
    "    ax2.plot([xmin,xmax], [.5, .5], color='grey', linestyle='--', linewidth = 1, alpha=.5)\n",
    "    ax2.plot([xmin,xmax], [.9, .9], color='grey', linestyle='--', linewidth = 1, alpha=.5)\n",
    "\n",
    "    plt.show()\n",
    "    "
   ]
  },
  {
   "cell_type": "markdown",
   "metadata": {
    "hidden": true
   },
   "source": [
    "## run"
   ]
  },
  {
   "cell_type": "code",
   "execution_count": null,
   "metadata": {
    "hidden": true
   },
   "outputs": [],
   "source": [
    "p10_in = 90\n",
    "p50_in = 100\n",
    "p90_in = 110  # in fact P10\n",
    "numberofsamples = 10000\n",
    "data = myerson(p10_in, p50_in, p90_in, numberofsamples)\n",
    "\n",
    "p10_out = np.percentile(data,10)\n",
    "p50_out = np.percentile(data,50)\n",
    "p90_out = np.percentile(data,90)\n",
    "\n",
    "print(' P10in : {:.4f}  => P10out : {:.4f}'.format(p10_in,p10_out ))\n",
    "print(' P50in : {:.4f}  => P50out : {:.4f}'.format(p50_in,p50_out ))\n",
    "print(' P90in : {:.4f}  => P90out : {:.4f}'.format(p90_in,p90_out ))\n",
    "\n",
    "dSamples = pd.DataFrame({'Sample':data})\n",
    "\n",
    "x = np.arange(1,len(data)+1,1)\n",
    "\n",
    "plt.scatter(x, data, s=1)\n",
    "plt.ylabel('some numbers')\n",
    "plt.show()\n",
    "\n",
    "bins = np.arange(70,140,5)\n",
    "\n",
    "dSamples, dDist = GenDistribution(dSamples, 'Sample',bins_list= bins)\n",
    "display(dSamples[:2])\n",
    "\n",
    "PlotDistribution(dSamples,dDist, 'Sample', 70,135,bins)"
   ]
  },
  {
   "cell_type": "code",
   "execution_count": null,
   "metadata": {
    "hidden": true
   },
   "outputs": [],
   "source": [
    "def SetGrid(axis_obj, Gmin, Gmax, Major_step, Minor_step=None, axis='both'):\n",
    "    ''''''\n",
    "\n",
    "    # Major ticks every 20, minor ticks every 5\n",
    "    major_ticks = np.arange(Gmin, Gmax, Major_step)\n",
    "    minor_ticks = np.arange(Gmin, Gmax, Minor_step)\n",
    "\n",
    "    if axis == 'both':\n",
    "        axis_obj.set_xticks(major_ticks)\n",
    "        axis_obj.set_xticks(minor_ticks, minor=True)\n",
    "\n",
    "        axis_obj.set_yticks(major_ticks)\n",
    "        if minor_ticks != None:\n",
    "            axis_obj.set_yticks(minor_ticks, minor=True)\n",
    "        \n",
    "         # And a corresponding grid\n",
    "        axis_obj.grid(which='both')\n",
    "        \n",
    "    elif axis == 0:\n",
    "        axis_obj.set_xticks(major_ticks)\n",
    "        axis_obj.set_xticks(minor_ticks, minor=True)\n",
    "        # And a corresponding grid\n",
    "\n",
    "    elif axis == 1:\n",
    "        axis_obj.set_yticks(major_ticks)\n",
    "        axis_obj.set_yticks(minor_ticks, minor=True)\n",
    "        # And a corresponding grid\n",
    "    else:\n",
    "        print('axis=\"both\", 0 for a or 1 for y')\n",
    "        return\n",
    "  \n",
    "    # Or if you want different settings for the grids:\n",
    "    axis_obj.grid(which='minor', alpha=0.2)\n",
    "    axis_obj.grid(which='major', alpha=0.5)\n"
   ]
  },
  {
   "cell_type": "code",
   "execution_count": null,
   "metadata": {
    "hidden": true
   },
   "outputs": [],
   "source": [
    "def PlotDistribution(dataframe_samples,dataframe_distribution,  col, xmin, xmax, bins):\n",
    "    \n",
    "    fig, ax1 = plt.subplots()\n",
    "\n",
    "    # 1st axis plot - the histogram\n",
    "    ax1.set_xlim(xmin,xmax)\n",
    "    \n",
    "    ax1.hist(dataframe_samples[col],bins=bins,cumulative=False, stacked=False, alpha=.4)\n",
    "    \n",
    "    # now the grid\n",
    "    minor_ticks = np.arange(70,135, 5)\n",
    "    ax1.set_xticks(minor_ticks, minor=True)\n",
    "    ax1.grid(which='major',axis='x', color='w', linestyle='--')\n",
    "    ax1.grid(which='minor',axis='x', color='w', linestyle='--')\n",
    "    \n",
    "    # 2nd axis - the cumulative frequency\n",
    "    ax2 = ax1.twinx()\n",
    "\n",
    "    ax2.plot(np.arange(134,72.5,  -5),dataframe_distribution[col+'_CumFreq'], color='r', alpha=.7)\n",
    "    \n",
    "    # draw the P10,P50 and P90 lines\n",
    "    ax2.plot([xmin,xmax], [.1, .1], color='grey', linestyle='--', linewidth = 1, alpha=.5)\n",
    "    ax2.plot([xmin,xmax], [.5, .5], color='grey', linestyle='--', linewidth = 1, alpha=.5)\n",
    "    ax2.plot([xmin,xmax], [.9, .9], color='grey', linestyle='--', linewidth = 1, alpha=.5)\n",
    "\n",
    "    plt.show()"
   ]
  },
  {
   "cell_type": "markdown",
   "metadata": {
    "heading_collapsed": true
   },
   "source": [
    "# Parameters sensitivities beta function"
   ]
  },
  {
   "cell_type": "code",
   "execution_count": 49,
   "metadata": {
    "hidden": true
   },
   "outputs": [],
   "source": [
    "import scipy.stats\n",
    "% matplotlib inline"
   ]
  },
  {
   "cell_type": "markdown",
   "metadata": {
    "hidden": true
   },
   "source": [
    "## Alpha variations"
   ]
  },
  {
   "cell_type": "code",
   "execution_count": 50,
   "metadata": {
    "hidden": true
   },
   "outputs": [
    {
     "data": {
      "image/png": "[encoded data removed]",
      "text/plain": [
       "<Figure size 432x288 with 1 Axes>"
      ]
     },
     "metadata": {},
     "output_type": "display_data"
    }
   ],
   "source": [
    "#fig, ax = plt.subplots()\n",
    "alpha = 12\n",
    "beta = 4\n",
    "scale = 20\n",
    "location = 1\n",
    "\n",
    "for i in np.arange(5, 25,5):\n",
    "    \n",
    "    my_dist = scipy.stats.beta(i, beta, scale=20, loc=location)\n",
    "    x = np.linspace(min_val, max_val, 100)\n",
    "    plt.plot(x, my_dist.pdf(x))"
   ]
  },
  {
   "cell_type": "markdown",
   "metadata": {
    "hidden": true
   },
   "source": [
    "## Beta variations"
   ]
  },
  {
   "cell_type": "code",
   "execution_count": 52,
   "metadata": {
    "hidden": true
   },
   "outputs": [
    {
     "data": {
      "image/png": "[encoded data removed]",
      "text/plain": [
       "<Figure size 432x288 with 1 Axes>"
      ]
     },
     "metadata": {},
     "output_type": "display_data"
    }
   ],
   "source": [
    "#fig, ax = plt.subplots()\n",
    "alpha = 12\n",
    "beta = 4\n",
    "scale = 20\n",
    "location = 1\n",
    "\n",
    "for i in np.arange(5, 25,5):\n",
    "    \n",
    "    my_dist = scipy.stats.beta(alpha, i, scale=20, loc=location)\n",
    "    x = np.linspace(min_val, max_val, 100)\n",
    "    plt.plot(x, my_dist.pdf(x))"
   ]
  },
  {
   "cell_type": "markdown",
   "metadata": {
    "hidden": true
   },
   "source": [
    "## Scale variations"
   ]
  },
  {
   "cell_type": "code",
   "execution_count": 51,
   "metadata": {
    "hidden": true
   },
   "outputs": [
    {
     "data": {
      "image/png": "[encoded data removed]",
      "text/plain": [
       "<Figure size 432x288 with 1 Axes>"
      ]
     },
     "metadata": {},
     "output_type": "display_data"
    }
   ],
   "source": [
    "min_val = 1\n",
    "max_val = 20\n",
    "\n",
    "#fig, ax = plt.subplots()\n",
    "alpha = 12\n",
    "beta = 4\n",
    "scale = 20\n",
    "location = 1\n",
    "\n",
    "for i in np.arange(5, 25,5):\n",
    "    \n",
    "    my_dist = scipy.stats.beta(alpha, beta, scale=i, loc=location)\n",
    "    x = np.linspace(min_val, max_val, 100)\n",
    "    plt.plot(x, my_dist.pdf(x))\n",
    "    "
   ]
  },
  {
   "cell_type": "code",
   "execution_count": null,
   "metadata": {
    "hidden": true
   },
   "outputs": [],
   "source": []
  }
 ],
 "metadata": {
  "kernelspec": {
   "display_name": "Python 3",
   "language": "python",
   "name": "python3"
  },
  "language_info": {
   "codemirror_mode": {
    "name": "ipython",
    "version": 3
   },
   "file_extension": ".py",
   "mimetype": "text/x-python",
   "name": "python",
   "nbconvert_exporter": "python",
   "pygments_lexer": "ipython3",
   "version": "3.6.1"
  },
  "toc": {
   "colors": {
    "hover_highlight": "#DAA520",
    "navigate_num": "#000000",
    "navigate_text": "#333333",
    "running_highlight": "#FF0000",
    "selected_highlight": "#FFD700",
    "sidebar_border": "#EEEEEE",
    "wrapper_background": "#FFFFFF"
   },
   "moveMenuLeft": true,
   "nav_menu": {
    "height": "82px",
    "width": "252px"
   },
   "navigate_menu": true,
   "number_sections": true,
   "sideBar": true,
   "threshold": 4,
   "toc_cell": false,
   "toc_section_display": "block",
   "toc_window_display": true,
   "widenNotebook": false
  }
 },
 "nbformat": 4,
 "nbformat_minor": 2
}
